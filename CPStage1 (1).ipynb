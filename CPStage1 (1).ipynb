{
 "cells": [
  {
   "cell_type": "markdown",
   "id": "3709655c-22a7-4726-af67-425377b284c5",
   "metadata": {},
   "source": [
    "# Class Project - Stage 1\n",
    "---\n",
    "### Group Information\n",
    "Group Members:\n",
    "\n",
    "* Kayla Katakis\n",
    "\n",
    "Contributions:\n",
    "\n",
    "* Kayla - Prepared data description and documentation\n",
    "\n",
    "---\n",
    "\n",
    "### Background\n",
    "\n",
    " "
   ]
  },
  {
   "cell_type": "code",
   "execution_count": null,
   "id": "ca4e2c8c-8e9d-4ff9-b89e-7aff59c1cdb4",
   "metadata": {},
   "outputs": [],
   "source": []
  }
 ],
 "metadata": {
  "kernelspec": {
   "display_name": "Python 3 (ipykernel)",
   "language": "python",
   "name": "python3"
  },
  "language_info": {
   "codemirror_mode": {
    "name": "ipython",
    "version": 3
   },
   "file_extension": ".py",
   "mimetype": "text/x-python",
   "name": "python",
   "nbconvert_exporter": "python",
   "pygments_lexer": "ipython3",
   "version": "3.9.12"
  }
 },
 "nbformat": 4,
 "nbformat_minor": 5
}
